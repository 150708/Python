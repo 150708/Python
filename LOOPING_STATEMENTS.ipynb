{
  "nbformat": 4,
  "nbformat_minor": 0,
  "metadata": {
    "colab": {
      "provenance": []
    },
    "kernelspec": {
      "name": "python3",
      "display_name": "Python 3"
    },
    "language_info": {
      "name": "python"
    }
  },
  "cells": [
    {
      "cell_type": "markdown",
      "source": [
        "**LOOPING STATEMENTS**\n",
        "\n",
        "Looping statements are control flow constructs in programming that repeatedly execute a block of code as long as a specified condition is true or for a certain number of iterations. They are essential for tasks that require repetitive actions.\n",
        "\n",
        "For loop   - pre defined loop\n",
        "while loop - post defined loop"
      ],
      "metadata": {
        "id": "YLel8u5jA3Wh"
      }
    },
    {
      "cell_type": "code",
      "source": [
        "# for loop\n",
        "#A for loop is used to iterate over a sequence (such as a list, tuple, string, or range) and execute a block of code repeatedly for each item in the sequence.\n",
        "\n",
        "# For loop with range in Python\n",
        "for i in range(1,5):\n",
        "    print(i)\n",
        "\n"
      ],
      "metadata": {
        "colab": {
          "base_uri": "https://localhost:8080/"
        },
        "id": "logF4UX1Bj-s",
        "outputId": "63f39646-b4f6-4b15-c1af-25b2e3a6f26c"
      },
      "execution_count": 1,
      "outputs": [
        {
          "output_type": "stream",
          "name": "stdout",
          "text": [
            "1\n",
            "2\n",
            "3\n",
            "4\n"
          ]
        }
      ]
    },
    {
      "cell_type": "code",
      "source": [
        "#while loop\n",
        "#A while loop is used to repeatedly execute a block of code as long as a specified condition is true. The condition is checked before each iteration, and if the condition evaluates to false, the loop stops.\n",
        "\n",
        "\n",
        "# Simple while loop in Python\n",
        "x = 0\n",
        "\n",
        "while x < 5:\n",
        "    print(x)\n",
        "    x =x + 1\n"
      ],
      "metadata": {
        "colab": {
          "base_uri": "https://localhost:8080/"
        },
        "id": "w2b3d4tQCjSO",
        "outputId": "eb04e495-f1e2-4c2d-b402-dc53fcb6c8d6"
      },
      "execution_count": 3,
      "outputs": [
        {
          "output_type": "stream",
          "name": "stdout",
          "text": [
            "0\n",
            "1\n",
            "2\n",
            "3\n",
            "4\n"
          ]
        }
      ]
    }
  ]
}