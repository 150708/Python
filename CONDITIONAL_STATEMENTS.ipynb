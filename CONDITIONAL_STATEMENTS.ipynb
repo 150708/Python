{
  "nbformat": 4,
  "nbformat_minor": 0,
  "metadata": {
    "colab": {
      "provenance": []
    },
    "kernelspec": {
      "name": "python3",
      "display_name": "Python 3"
    },
    "language_info": {
      "name": "python"
    }
  },
  "cells": [
    {
      "cell_type": "markdown",
      "source": [
        "***CONDITIONAL STATEMENTS***\n",
        "\n",
        "Statements which are used to transfer the control according to certain situations are called control statements.\n",
        "•\tsimple if\n",
        "•\tif …else\n",
        "•\tif…elif…else\n",
        "•\tnested if\n"
      ],
      "metadata": {
        "id": "6iMCa9LX9JyZ"
      }
    },
    {
      "cell_type": "code",
      "source": [
        "#simple if\n",
        "#fundamental control structure in programming that allows you to execute a block of code only if a specified condition is true\n",
        "\n",
        "# Simple if statement in Python\n",
        "'''if condition:\n",
        "indented statement block'''\n",
        "x = 10\n",
        "\n",
        "if x > 5:\n",
        "    print(\"x is greater than 5\")\n",
        "\n",
        "if x < 15:\n",
        "    print(\"x is less than 15\")\n"
      ],
      "metadata": {
        "colab": {
          "base_uri": "https://localhost:8080/"
        },
        "id": "uqNFPN7U9PTC",
        "outputId": "c6e7539d-079b-48e5-ec1c-55e18404fcae"
      },
      "execution_count": 3,
      "outputs": [
        {
          "output_type": "stream",
          "name": "stdout",
          "text": [
            "x is greater than 5\n",
            "x is less than 15\n"
          ]
        }
      ]
    },
    {
      "cell_type": "code",
      "source": [
        "#if …else\n",
        "#statement allows you to execute one block of code if a condition is true, and another block of code if the condition is false.\n",
        "\n",
        "'''if condition :\n",
        "  intended statement block is true\n",
        "else :\n",
        "  intended statement block is false '''\n",
        "\n",
        "\n",
        "  # If ... else statement in Python\n",
        "x = 10\n",
        "\n",
        "if x > 5:\n",
        "    print(\"x is greater than 5\")\n",
        "else:\n",
        "    print(\"x is not greater than 5\")\n"
      ],
      "metadata": {
        "colab": {
          "base_uri": "https://localhost:8080/"
        },
        "id": "RKnhQmFX-tYc",
        "outputId": "dfda164e-dfa3-456a-dbf5-b8f0d6c07dac"
      },
      "execution_count": 5,
      "outputs": [
        {
          "output_type": "stream",
          "name": "stdout",
          "text": [
            "x is greater than 5\n"
          ]
        }
      ]
    },
    {
      "cell_type": "code",
      "source": [
        "#else if(elif)\n",
        "#statement allows you to check multiple conditions in sequence. If the first condition is false, it checks the next condition, and so on.\n",
        "\n",
        "'''if(condition):\n",
        "  intended statement block for condition 1 is true\n",
        "elif(condition):\n",
        "  intended statement block for condition 2 is true\n",
        "else:\n",
        "  alternate statement block if all conditions are false'''\n",
        "\n",
        "  # If ... elif ... else statement in Python\n",
        "x = 10\n",
        "\n",
        "if x > 15:\n",
        "    print(\"x is greater than 15\")\n",
        "elif x > 5:\n",
        "    print(\"x is greater than 5 but less than or equal to 15\")\n",
        "else:\n",
        "    print(\"x is 5 or less\")\n"
      ],
      "metadata": {
        "colab": {
          "base_uri": "https://localhost:8080/"
        },
        "id": "KIi2vRL__R7I",
        "outputId": "450d9e70-2049-42c8-8fd3-1620e8cfbcb1"
      },
      "execution_count": 7,
      "outputs": [
        {
          "output_type": "stream",
          "name": "stdout",
          "text": [
            "x is greater than 5 but less than or equal to 15\n"
          ]
        }
      ]
    },
    {
      "cell_type": "code",
      "source": [
        "#nested if\n",
        "#statement that is contained within another if statement. This allows for more complex decision-making\n",
        "\n",
        "# Nested if statement in Python\n",
        "x = 10\n",
        "y = 5\n",
        "\n",
        "if x > 5:\n",
        "    print(\"x is greater than 5\")\n",
        "\n",
        "    if y > 2:\n",
        "        print(\"y is greater than 2\")\n",
        "    else:\n",
        "        print(\"y is not greater than 2\")\n",
        "else:\n",
        "    print(\"x is not greater than 5\")\n"
      ],
      "metadata": {
        "colab": {
          "base_uri": "https://localhost:8080/"
        },
        "id": "_hhbU2ox-1rJ",
        "outputId": "541c5295-6490-42cd-895d-5501ea64b493"
      },
      "execution_count": 8,
      "outputs": [
        {
          "output_type": "stream",
          "name": "stdout",
          "text": [
            "x is greater than 5\n",
            "y is greater than 2\n"
          ]
        }
      ]
    }
  ]
}