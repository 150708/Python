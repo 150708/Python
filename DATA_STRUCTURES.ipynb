{
  "nbformat": 4,
  "nbformat_minor": 0,
  "metadata": {
    "colab": {
      "provenance": []
    },
    "kernelspec": {
      "name": "python3",
      "display_name": "Python 3"
    },
    "language_info": {
      "name": "python"
    }
  },
  "cells": [
    {
      "cell_type": "markdown",
      "source": [
        "**Data structures** : Data structures in programming refer to the way data is organized, stored, and accessed in a computer's memory. They are fundamental for efficiently managing and manipulating data. Here are some common data structures used in Python:\n",
        "\n",
        "                    1. Lists\n",
        "                    2. Tuples\n",
        "                    3. Dictionaries\n",
        "                    4. Sets\n",
        "                    5. Arrays\n",
        "\n"
      ],
      "metadata": {
        "id": "DIq9lGnffchO"
      }
    },
    {
      "cell_type": "code",
      "source": [
        "#Lists:\n",
        "\n",
        "#Ordered collection of items.Mutable (can be modified after creation).\n",
        "\n",
        "my_list = [1, 2, 3, 4, 5]\n",
        "print(my_list)\n",
        "\n",
        "\n"
      ],
      "metadata": {
        "colab": {
          "base_uri": "https://localhost:8080/"
        },
        "id": "Rrsrhnu-f5gA",
        "outputId": "d8395891-29be-4798-ac74-09094904bd5e"
      },
      "execution_count": null,
      "outputs": [
        {
          "output_type": "stream",
          "name": "stdout",
          "text": [
            "[1, 2, 3, 4, 5]\n"
          ]
        }
      ]
    },
    {
      "cell_type": "code",
      "source": [
        "#Intersection of Two Lists.\n",
        "\n",
        "a=[]\n",
        "b=[]\n",
        "c=[]\n",
        "n=(int)(input(\"enter n\"))\n",
        "print(\"enter n elements\")\n",
        "for i in range(n):\n",
        "    a.append((int)(input()))\n",
        "print(\"enter n elements for b list\")\n",
        "for i in range(n):\n",
        "    b.append((int)(input()))\n",
        "for i in a:\n",
        "    for j in b:\n",
        "        if(i==j):\n",
        "            c.append(i)\n",
        "print(c)\n"
      ],
      "metadata": {
        "colab": {
          "base_uri": "https://localhost:8080/"
        },
        "id": "4Hjj3B8eh9RP",
        "outputId": "f4d2a240-fc19-43a7-ef5d-939460e2caa7"
      },
      "execution_count": null,
      "outputs": [
        {
          "output_type": "stream",
          "name": "stdout",
          "text": [
            "enter n3\n",
            "enter n elements\n",
            "12\n",
            "1\n",
            "3\n",
            "enter n elements for b list\n",
            "34\n",
            "56\n",
            "22\n",
            "[]\n"
          ]
        }
      ]
    },
    {
      "cell_type": "code",
      "source": [
        "#Tuples:\n",
        "\n",
        "#Ordered collection of items.Immutable (cannot be modified after creation).\n",
        "\n",
        "my_tuple = (1, 2, 3, 4, 5)\n",
        "print(my_tuple)"
      ],
      "metadata": {
        "colab": {
          "base_uri": "https://localhost:8080/"
        },
        "id": "PstRsHVkgIfc",
        "outputId": "adf9d423-165f-4865-97c3-7e60a30f609f"
      },
      "execution_count": null,
      "outputs": [
        {
          "output_type": "stream",
          "name": "stdout",
          "text": [
            "(1, 2, 3, 4, 5)\n"
          ]
        }
      ]
    },
    {
      "cell_type": "code",
      "source": [
        "#Dictionaries:\n",
        "\n",
        "#Collection of key-value pairs.Unordered (order of items is not guaranteed).\n",
        "\n",
        "my_dict = {'name': 'Alice', 'age': 30, 'city': 'New York'}\n",
        "print(my_dict)"
      ],
      "metadata": {
        "colab": {
          "base_uri": "https://localhost:8080/"
        },
        "id": "6qbq0G5YgQQh",
        "outputId": "9ec1a096-f41c-4cf5-ef11-39bcc05f3a36"
      },
      "execution_count": null,
      "outputs": [
        {
          "output_type": "stream",
          "name": "stdout",
          "text": [
            "{'name': 'Alice', 'age': 30, 'city': 'New York'}\n"
          ]
        }
      ]
    },
    {
      "cell_type": "code",
      "source": [
        "#concatenate two dictionaries into one\n",
        "\n",
        "n = int(input(\"Enter n\"))\n",
        "d ={}\n",
        "d1={}\n",
        "for i in range(n):\n",
        "    text = input().split()\n",
        "    d[text[0]] = text[1]\n",
        "print(d)\n",
        "print(\"enter another dictionary\")\n",
        "for i in range(n):\n",
        "    text1 = input().split()\n",
        "    d1[text1[0]] = text1[1]\n",
        "print(d1)\n",
        "d.update(d1)\n",
        "print(d)\n",
        "\n"
      ],
      "metadata": {
        "colab": {
          "base_uri": "https://localhost:8080/"
        },
        "id": "44hzVxcniblU",
        "outputId": "e31e7078-34a7-43ba-ca53-0449832165b8"
      },
      "execution_count": null,
      "outputs": [
        {
          "output_type": "stream",
          "name": "stdout",
          "text": [
            "Enter n2\n",
            "key1 value1\n",
            "key2 value2\n",
            "{'key1': 'value1', 'key2': 'value2'}\n",
            "enter another dictionary\n",
            "key3 value4\n",
            "key5 value6\n",
            "{'key3': 'value4', 'key5': 'value6'}\n",
            "{'key1': 'value1', 'key2': 'value2', 'key3': 'value4', 'key5': 'value6'}\n"
          ]
        }
      ]
    },
    {
      "cell_type": "code",
      "source": [
        "#Sets:\n",
        "\n",
        "#Unordered collection of unique items.Useful for operations like union, intersection, difference.\n",
        "\n",
        "my_set = {15, 22, 7, 4, 5}\n",
        "print(my_set)"
      ],
      "metadata": {
        "colab": {
          "base_uri": "https://localhost:8080/"
        },
        "id": "hoJOdueDgbx6",
        "outputId": "4f58f67a-485a-410e-af98-0f07f3546ef6"
      },
      "execution_count": null,
      "outputs": [
        {
          "output_type": "stream",
          "name": "stdout",
          "text": [
            "{4, 5, 22, 7, 15}\n"
          ]
        }
      ]
    },
    {
      "cell_type": "code",
      "source": [
        "#check common letters in two input strings\n",
        "\n",
        "a=input(\"enter a string\")\n",
        "b=input(\"enter another string\")\n",
        "print(set(a)&set(b))\n"
      ],
      "metadata": {
        "colab": {
          "base_uri": "https://localhost:8080/"
        },
        "id": "5BErzwVEkeBr",
        "outputId": "c864b04e-3276-4940-a61f-84834570fe75"
      },
      "execution_count": null,
      "outputs": [
        {
          "output_type": "stream",
          "name": "stdout",
          "text": [
            "enter a stringAnalytical\n",
            "enter another stringscience\n",
            "{'c', 'n', 'i'}\n"
          ]
        }
      ]
    },
    {
      "cell_type": "code",
      "source": [
        "#Arrays:\n",
        "\n",
        "#Homogeneous collection of items.More memory efficient than lists for certain operations.\n",
        "\n",
        "import array\n",
        "my_array = array.array('i', [1, 2, 3, 4, 5])  # 'i' represents integer type\n",
        "print(my_array)\n"
      ],
      "metadata": {
        "colab": {
          "base_uri": "https://localhost:8080/"
        },
        "id": "WPtpTJxdgi8T",
        "outputId": "823b2fd3-05ef-44db-d5ad-912a7ad75f87"
      },
      "execution_count": null,
      "outputs": [
        {
          "output_type": "stream",
          "name": "stdout",
          "text": [
            "array('i', [1, 2, 3, 4, 5])\n"
          ]
        }
      ]
    },
    {
      "cell_type": "code",
      "source": [
        "n = int(input(\"Enter n: \"))  # Number of elements in the array\n",
        "a = []\n",
        "\n",
        "print(\"Enter n elements:\")\n",
        "for i in range(n):\n",
        "    element = int(input())\n",
        "    a.append(element)\n",
        "\n",
        "print(\"Array elements:\")\n",
        "for i in range(n):\n",
        "    print(a[i])\n",
        "\n",
        "t = int(input(\"Enter an element to add to the array: \"))\n",
        "a.append(t)\n",
        "\n",
        "print(\"Updated array:\")\n",
        "print(a)\n"
      ],
      "metadata": {
        "colab": {
          "base_uri": "https://localhost:8080/"
        },
        "id": "__gXbfAqhdnZ",
        "outputId": "3cdf0ab9-98f0-4c32-9e7b-567d4a02800e"
      },
      "execution_count": null,
      "outputs": [
        {
          "output_type": "stream",
          "name": "stdout",
          "text": [
            "Enter n: 2\n",
            "Enter n elements:\n",
            "12\n",
            "23\n",
            "Array elements:\n",
            "12\n",
            "23\n",
            "Enter an element to add to the array: 3\n",
            "Updated array:\n",
            "[12, 23, 3]\n"
          ]
        }
      ]
    }
  ]
}