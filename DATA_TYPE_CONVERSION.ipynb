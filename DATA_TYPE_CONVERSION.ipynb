{
  "nbformat": 4,
  "nbformat_minor": 0,
  "metadata": {
    "colab": {
      "provenance": []
    },
    "kernelspec": {
      "name": "python3",
      "display_name": "Python 3"
    },
    "language_info": {
      "name": "python"
    }
  },
  "cells": [
    {
      "cell_type": "markdown",
      "source": [
        "**Data type conversion** refers to the process of converting data from one type to another in programming. This is necessary when you want to perform operations or assignments where the data types differ."
      ],
      "metadata": {
        "id": "8C0NICvBlwRf"
      }
    },
    {
      "cell_type": "markdown",
      "source": [
        "Converting integer to float,string,complex and boolean"
      ],
      "metadata": {
        "id": "1x8q39z9mx6O"
      }
    },
    {
      "cell_type": "code",
      "source": [
        "# Integer to Float\n",
        "a = 10\n",
        "a1 = float(a)\n",
        "print(a1)\n"
      ],
      "metadata": {
        "colab": {
          "base_uri": "https://localhost:8080/"
        },
        "id": "t0YFCunNl0yY",
        "outputId": "ea63d8b8-b7b0-4993-fff8-98327f44987e"
      },
      "execution_count": 2,
      "outputs": [
        {
          "output_type": "stream",
          "name": "stdout",
          "text": [
            "10.0\n"
          ]
        }
      ]
    },
    {
      "cell_type": "code",
      "source": [
        "# Integer to string\n",
        "b = 10\n",
        "b1 = str(b)\n",
        "print(b1)\n"
      ],
      "metadata": {
        "colab": {
          "base_uri": "https://localhost:8080/"
        },
        "id": "11JdtyZ1mK1z",
        "outputId": "6f98cb60-ea8a-4d33-929d-e9e1bdd93f4b"
      },
      "execution_count": 3,
      "outputs": [
        {
          "output_type": "stream",
          "name": "stdout",
          "text": [
            "10\n"
          ]
        }
      ]
    },
    {
      "cell_type": "code",
      "source": [
        "# Integer to boolean\n",
        "c = 10\n",
        "c1 = bool(c)\n",
        "print(c1)\n"
      ],
      "metadata": {
        "colab": {
          "base_uri": "https://localhost:8080/"
        },
        "id": "8OZemu__mUt-",
        "outputId": "453336a8-2435-4ad4-caa4-2379abef2298"
      },
      "execution_count": 4,
      "outputs": [
        {
          "output_type": "stream",
          "name": "stdout",
          "text": [
            "True\n"
          ]
        }
      ]
    },
    {
      "cell_type": "code",
      "source": [
        "# Integer to complex\n",
        "d = 10\n",
        "d1 = bool(d)\n",
        "print(d1)\n",
        "\n"
      ],
      "metadata": {
        "colab": {
          "base_uri": "https://localhost:8080/"
        },
        "id": "BPtNHsr1mo1r",
        "outputId": "6ed4f2b5-7f5d-4bbe-c40d-74acdf6c75dd"
      },
      "execution_count": 5,
      "outputs": [
        {
          "output_type": "stream",
          "name": "stdout",
          "text": [
            "True\n"
          ]
        }
      ]
    },
    {
      "cell_type": "markdown",
      "source": [
        "Converting float to integer,string,complex and boolean"
      ],
      "metadata": {
        "id": "kQ1lIL1bm43G"
      }
    },
    {
      "cell_type": "code",
      "source": [
        "# Float to Integer\n",
        "num_float = 3.75\n",
        "num_int = int(num_float)\n",
        "print(num_int)\n"
      ],
      "metadata": {
        "colab": {
          "base_uri": "https://localhost:8080/"
        },
        "id": "0vP-ovkbnBmc",
        "outputId": "9e15a4cf-73da-4e93-bee7-89b81ea943c3"
      },
      "execution_count": 6,
      "outputs": [
        {
          "output_type": "stream",
          "name": "stdout",
          "text": [
            "3\n"
          ]
        }
      ]
    },
    {
      "cell_type": "code",
      "source": [
        "# Float to String\n",
        "num_float = 3.75\n",
        "str_num = str(num_float)\n",
        "print(str_num)\n"
      ],
      "metadata": {
        "colab": {
          "base_uri": "https://localhost:8080/"
        },
        "id": "t3QAHLfhnKFw",
        "outputId": "a96d52a8-bd51-4195-fef6-66b9a7f99ad1"
      },
      "execution_count": 7,
      "outputs": [
        {
          "output_type": "stream",
          "name": "stdout",
          "text": [
            "3.75\n"
          ]
        }
      ]
    },
    {
      "cell_type": "code",
      "source": [
        "# Float to Complex\n",
        "num_float = 2.5\n",
        "num_complex = complex(num_float)\n",
        "print(num_complex)\n"
      ],
      "metadata": {
        "colab": {
          "base_uri": "https://localhost:8080/"
        },
        "id": "ZKclBBMKnLpc",
        "outputId": "340ad5e8-7e1a-4739-b586-8b5394bb86b5"
      },
      "execution_count": 8,
      "outputs": [
        {
          "output_type": "stream",
          "name": "stdout",
          "text": [
            "(2.5+0j)\n"
          ]
        }
      ]
    },
    {
      "cell_type": "code",
      "source": [
        "# Float to Boolean (Non-zero float is considered True)\n",
        "num_float = 0.0\n",
        "bool_value = bool(num_float)\n",
        "print(bool_value)\n",
        "\n",
        "num_float = 3.14\n",
        "bool_value = bool(num_float)\n",
        "print(bool_value)\n"
      ],
      "metadata": {
        "colab": {
          "base_uri": "https://localhost:8080/"
        },
        "id": "D9_Qg8WUnOVL",
        "outputId": "f370108b-633e-449e-d993-f618a45142bb"
      },
      "execution_count": 9,
      "outputs": [
        {
          "output_type": "stream",
          "name": "stdout",
          "text": [
            "False\n",
            "True\n"
          ]
        }
      ]
    },
    {
      "cell_type": "markdown",
      "source": [
        "**String to int,float,boolean and complex**\n",
        "\n",
        "conversion of string to float,integer and complex are possible only when the given input is in numerical format.\n",
        "conversion of string to boolean is possible\n",
        "\n"
      ],
      "metadata": {
        "id": "DZXT-YcmnQBB"
      }
    },
    {
      "cell_type": "code",
      "source": [
        "# String to Integer\n",
        "str_num = \"123\"\n",
        "num_int = int(str_num)\n",
        "print(num_int)\n"
      ],
      "metadata": {
        "colab": {
          "base_uri": "https://localhost:8080/"
        },
        "id": "f0SkBIBOpVeQ",
        "outputId": "6907ac2b-8fa5-45b0-e8bc-22fe5658c0ab"
      },
      "execution_count": 10,
      "outputs": [
        {
          "output_type": "stream",
          "name": "stdout",
          "text": [
            "123\n"
          ]
        }
      ]
    },
    {
      "cell_type": "code",
      "source": [
        "# String to Float\n",
        "str_num = \"3.14\"\n",
        "num_float = float(str_num)\n",
        "print(num_float)\n"
      ],
      "metadata": {
        "colab": {
          "base_uri": "https://localhost:8080/"
        },
        "id": "YUgpc6-qqb87",
        "outputId": "f55f70b2-b933-4454-b479-2184cb56b4e7"
      },
      "execution_count": 11,
      "outputs": [
        {
          "output_type": "stream",
          "name": "stdout",
          "text": [
            "3.14\n"
          ]
        }
      ]
    },
    {
      "cell_type": "code",
      "source": [
        "# String to Complex\n",
        "str_num = \"2.5+3.7j\"\n",
        "num_complex = complex(str_num)\n",
        "print(num_complex)\n"
      ],
      "metadata": {
        "colab": {
          "base_uri": "https://localhost:8080/"
        },
        "id": "-wiyaNqcqebU",
        "outputId": "3939c0e3-d8a4-4c30-bf76-69bad0686efb"
      },
      "execution_count": 12,
      "outputs": [
        {
          "output_type": "stream",
          "name": "stdout",
          "text": [
            "(2.5+3.7j)\n"
          ]
        }
      ]
    },
    {
      "cell_type": "code",
      "source": [
        "# String to Boolean\n",
        "true_str = \"True\"\n",
        "bool_value_true = bool(true_str)\n",
        "print(bool_value_true)\n",
        "\n",
        "false_str = \"False\"\n",
        "bool_value_false = bool(false_str)\n",
        "print(bool_value_false)\n",
        "\n",
        "# Non-empty strings are considered True\n",
        "non_empty_str = \"Hello\"\n",
        "bool_value_non_empty = bool(non_empty_str)\n",
        "print(bool_value_non_empty)\n",
        "\n",
        "# Empty string is considered False\n",
        "empty_str = \"\"\n",
        "bool_value_empty = bool(empty_str)\n",
        "print(bool_value_empty)\n"
      ],
      "metadata": {
        "colab": {
          "base_uri": "https://localhost:8080/"
        },
        "id": "U4yXd7jRqfF4",
        "outputId": "b4ae7b82-c86d-4344-8864-c738dd75d3b4"
      },
      "execution_count": 13,
      "outputs": [
        {
          "output_type": "stream",
          "name": "stdout",
          "text": [
            "True\n",
            "True\n",
            "True\n",
            "False\n"
          ]
        }
      ]
    },
    {
      "cell_type": "markdown",
      "source": [
        "**Conversion of  boolean to float,string,complex and integer is possible**"
      ],
      "metadata": {
        "id": "jW_mDc8uqkhD"
      }
    },
    {
      "cell_type": "code",
      "source": [
        "# Boolean to Float\n",
        "bool_value = True\n",
        "float_value = float(bool_value)\n",
        "print(float_value)\n",
        "\n",
        "bool_value = False\n",
        "float_value = float(bool_value)\n",
        "print(float_value)\n"
      ],
      "metadata": {
        "colab": {
          "base_uri": "https://localhost:8080/"
        },
        "id": "_1IaNQW6qv6s",
        "outputId": "c111c2f9-7e3f-4ef1-8528-ba39eb40bb7f"
      },
      "execution_count": 14,
      "outputs": [
        {
          "output_type": "stream",
          "name": "stdout",
          "text": [
            "1.0\n",
            "0.0\n"
          ]
        }
      ]
    },
    {
      "cell_type": "code",
      "source": [
        "# Boolean to String\n",
        "bool_value = True\n",
        "str_value = str(bool_value)\n",
        "print(str_value)\n",
        "\n",
        "bool_value = False\n",
        "str_value = str(bool_value)\n",
        "print(str_value)\n"
      ],
      "metadata": {
        "colab": {
          "base_uri": "https://localhost:8080/"
        },
        "id": "pzjy9d3Xq3Cl",
        "outputId": "7d123410-400e-4f55-bcba-32940631662b"
      },
      "execution_count": 15,
      "outputs": [
        {
          "output_type": "stream",
          "name": "stdout",
          "text": [
            "True\n",
            "False\n"
          ]
        }
      ]
    },
    {
      "cell_type": "code",
      "source": [
        "# Boolean to Complex\n",
        "bool_value = True\n",
        "complex_value = complex(bool_value)\n",
        "print(complex_value)\n",
        "\n",
        "bool_value = False\n",
        "complex_value = complex(bool_value)\n",
        "print(complex_value)\n"
      ],
      "metadata": {
        "colab": {
          "base_uri": "https://localhost:8080/"
        },
        "id": "LVkA6ReEq4SM",
        "outputId": "1dcca1b7-3dfb-40f5-bb26-61db756a4227"
      },
      "execution_count": 16,
      "outputs": [
        {
          "output_type": "stream",
          "name": "stdout",
          "text": [
            "(1+0j)\n",
            "0j\n"
          ]
        }
      ]
    },
    {
      "cell_type": "code",
      "source": [
        "# Boolean to Integer\n",
        "bool_value = True\n",
        "int_value = int(bool_value)\n",
        "print(int_value)\n",
        "\n",
        "bool_value = False\n",
        "int_value = int(bool_value)\n",
        "print(int_value)\n"
      ],
      "metadata": {
        "colab": {
          "base_uri": "https://localhost:8080/"
        },
        "id": "paA5V9fAq5pz",
        "outputId": "e9d4d98b-7937-44d0-88a4-511fca740d21"
      },
      "execution_count": 17,
      "outputs": [
        {
          "output_type": "stream",
          "name": "stdout",
          "text": [
            "1\n",
            "0\n"
          ]
        }
      ]
    },
    {
      "cell_type": "markdown",
      "source": [
        "**Conversion of float to boolean,string,complex and integer is possible**"
      ],
      "metadata": {
        "id": "yIxDrY9prAAz"
      }
    },
    {
      "cell_type": "code",
      "source": [
        "# Float to Boolean\n",
        "num_float = 0.0\n",
        "bool_value = bool(num_float)\n",
        "print(bool_value)\n",
        "\n",
        "num_float = 3.14\n",
        "bool_value = bool(num_float)\n",
        "print(bool_value)\n"
      ],
      "metadata": {
        "colab": {
          "base_uri": "https://localhost:8080/"
        },
        "id": "yyrqOSIrrIRb",
        "outputId": "ad292e93-5311-44c8-d9ed-b7f122aad187"
      },
      "execution_count": 18,
      "outputs": [
        {
          "output_type": "stream",
          "name": "stdout",
          "text": [
            "False\n",
            "True\n"
          ]
        }
      ]
    },
    {
      "cell_type": "code",
      "source": [
        "# Float to String\n",
        "num_float = 3.14\n",
        "str_value = str(num_float)\n",
        "print(str_value)\n"
      ],
      "metadata": {
        "colab": {
          "base_uri": "https://localhost:8080/"
        },
        "id": "leWa-kU8rNVM",
        "outputId": "1922066d-8ee3-437d-bc01-9b15176b5d1a"
      },
      "execution_count": 19,
      "outputs": [
        {
          "output_type": "stream",
          "name": "stdout",
          "text": [
            "3.14\n"
          ]
        }
      ]
    },
    {
      "cell_type": "code",
      "source": [
        "# Float to Complex\n",
        "num_float = 2.5\n",
        "complex_value = complex(num_float)\n",
        "print(complex_value)\n"
      ],
      "metadata": {
        "colab": {
          "base_uri": "https://localhost:8080/"
        },
        "id": "x3WlkuihrOfg",
        "outputId": "2f582d7a-e224-4957-baeb-af681759be4f"
      },
      "execution_count": 20,
      "outputs": [
        {
          "output_type": "stream",
          "name": "stdout",
          "text": [
            "(2.5+0j)\n"
          ]
        }
      ]
    },
    {
      "cell_type": "code",
      "source": [
        "# Float to Integer\n",
        "num_float = 3.75\n",
        "int_value = int(num_float)\n",
        "print(int_value)\n"
      ],
      "metadata": {
        "colab": {
          "base_uri": "https://localhost:8080/"
        },
        "id": "CrIFLioqrP4u",
        "outputId": "2b17b3f2-4ee1-42ee-a0a4-f744ae084eaf"
      },
      "execution_count": 21,
      "outputs": [
        {
          "output_type": "stream",
          "name": "stdout",
          "text": [
            "3\n"
          ]
        }
      ]
    },
    {
      "cell_type": "markdown",
      "source": [
        "**Converting complex to float,string,integer and boolean**\n",
        "\n",
        "converting complex to string & boolean are possible.\n",
        "converting complex to int & float are possible only with the help of real part"
      ],
      "metadata": {
        "id": "ziS_S3PBrglJ"
      }
    },
    {
      "cell_type": "code",
      "source": [
        "# Complex to Float (takes the real part)\n",
        "num_complex = 2.5 + 3.7j\n",
        "float_value = float(num_complex.real)\n",
        "print(float_value)\n"
      ],
      "metadata": {
        "colab": {
          "base_uri": "https://localhost:8080/"
        },
        "id": "_CeKN-sgr2Lh",
        "outputId": "ac845e15-02d5-4d5f-9e0f-1d6061dba63f"
      },
      "execution_count": 22,
      "outputs": [
        {
          "output_type": "stream",
          "name": "stdout",
          "text": [
            "2.5\n"
          ]
        }
      ]
    },
    {
      "cell_type": "code",
      "source": [
        "# Complex to String\n",
        "num_complex = 2.5 + 3.7j\n",
        "str_value = str(num_complex)\n",
        "print(str_value)\n"
      ],
      "metadata": {
        "colab": {
          "base_uri": "https://localhost:8080/"
        },
        "id": "QIr-FCqvr2SI",
        "outputId": "dcf3f937-229b-4b14-8ef2-623c021c13a0"
      },
      "execution_count": 23,
      "outputs": [
        {
          "output_type": "stream",
          "name": "stdout",
          "text": [
            "(2.5+3.7j)\n"
          ]
        }
      ]
    },
    {
      "cell_type": "code",
      "source": [
        "# Complex to Integer (cannot directly convert complex to int, this example takes the real part)\n",
        "num_complex = 2.5 + 3.7j\n",
        "int_value = int(num_complex.real)\n",
        "print(int_value)\n"
      ],
      "metadata": {
        "colab": {
          "base_uri": "https://localhost:8080/"
        },
        "id": "QPNfsRjnr2Uh",
        "outputId": "c26ad177-01d5-4d4c-89cf-9cc48921d3bd"
      },
      "execution_count": 24,
      "outputs": [
        {
          "output_type": "stream",
          "name": "stdout",
          "text": [
            "2\n"
          ]
        }
      ]
    },
    {
      "cell_type": "code",
      "source": [
        "# Complex to Boolean (True if either real or imaginary part is non-zero)\n",
        "num_complex = 0 + 0j\n",
        "bool_value = bool(num_complex.real or num_complex.imag)\n",
        "print(bool_value)\n",
        "\n",
        "num_complex = 2.5 + 3.7j\n",
        "bool_value = bool(num_complex.real or num_complex.imag)\n",
        "print(bool_value)\n"
      ],
      "metadata": {
        "colab": {
          "base_uri": "https://localhost:8080/"
        },
        "id": "6LFqsHDJr2Ws",
        "outputId": "875e9b3f-cec0-444c-e4a3-87aeb2da0cb7"
      },
      "execution_count": 25,
      "outputs": [
        {
          "output_type": "stream",
          "name": "stdout",
          "text": [
            "False\n",
            "True\n"
          ]
        }
      ]
    },
    {
      "cell_type": "markdown",
      "source": [
        "**Converting list to dictionary,tuple,set and array**"
      ],
      "metadata": {
        "id": "tjqvDX8TsE6m"
      }
    },
    {
      "cell_type": "code",
      "source": [
        "# List to Dictionary\n",
        "my_list = [(\"a\", 1), (\"b\", 2), (\"c\", 3)]\n",
        "dict_from_list = dict(my_list)\n",
        "print(dict_from_list)\n"
      ],
      "metadata": {
        "colab": {
          "base_uri": "https://localhost:8080/"
        },
        "id": "edKE5dG7sOxm",
        "outputId": "c05f1c2d-6228-4580-9415-9cd96f02462e"
      },
      "execution_count": 26,
      "outputs": [
        {
          "output_type": "stream",
          "name": "stdout",
          "text": [
            "{'a': 1, 'b': 2, 'c': 3}\n"
          ]
        }
      ]
    },
    {
      "cell_type": "code",
      "source": [
        "# List to Tuple\n",
        "my_list = [1, 2, 3]\n",
        "tuple_from_list = tuple(my_list)\n",
        "print(tuple_from_list)\n"
      ],
      "metadata": {
        "colab": {
          "base_uri": "https://localhost:8080/"
        },
        "id": "d5je4DPwsnp1",
        "outputId": "a8107476-0e9f-4518-c119-62d4ce30557b"
      },
      "execution_count": 27,
      "outputs": [
        {
          "output_type": "stream",
          "name": "stdout",
          "text": [
            "(1, 2, 3)\n"
          ]
        }
      ]
    },
    {
      "cell_type": "code",
      "source": [
        "# List to Set (removes duplicates if any)\n",
        "my_list = [1, 2, 2, 3, 3, 3]\n",
        "set_from_list = set(my_list)\n",
        "print(set_from_list)\n"
      ],
      "metadata": {
        "colab": {
          "base_uri": "https://localhost:8080/"
        },
        "id": "DNRXQhlasnv0",
        "outputId": "254ee48f-cb62-4139-91d0-33eee1ce3fbc"
      },
      "execution_count": 28,
      "outputs": [
        {
          "output_type": "stream",
          "name": "stdout",
          "text": [
            "{1, 2, 3}\n"
          ]
        }
      ]
    },
    {
      "cell_type": "code",
      "source": [
        "from array import array\n",
        "\n",
        "# List to Array\n",
        "my_list = [1, 2, 3]\n",
        "array_from_list = array('i', my_list)  # 'i' specifies integer type\n",
        "print(array_from_list)\n"
      ],
      "metadata": {
        "colab": {
          "base_uri": "https://localhost:8080/"
        },
        "id": "Z9qKGeYnsn0A",
        "outputId": "8041c426-bd00-496b-cdfd-32f6e3b66038"
      },
      "execution_count": 29,
      "outputs": [
        {
          "output_type": "stream",
          "name": "stdout",
          "text": [
            "array('i', [1, 2, 3])\n"
          ]
        }
      ]
    },
    {
      "cell_type": "markdown",
      "source": [
        "**Converting dictionary to list,tuple,set and array**"
      ],
      "metadata": {
        "id": "kBtOLtJ9szaz"
      }
    },
    {
      "cell_type": "code",
      "source": [
        "# Dictionary to List (of keys, values, or items)\n",
        "my_dict = {'a': 1, 'b': 2, 'c': 3}\n",
        "\n",
        "# Convert keys to list\n",
        "keys_list = list(my_dict.keys())\n",
        "print(keys_list)\n",
        "\n",
        "# Convert values to list\n",
        "values_list = list(my_dict.values())\n",
        "print(values_list)\n",
        "\n",
        "# Convert items (key-value pairs) to list\n",
        "items_list = list(my_dict.items())\n",
        "print(items_list)\n"
      ],
      "metadata": {
        "colab": {
          "base_uri": "https://localhost:8080/"
        },
        "id": "5odoMC2Is1x4",
        "outputId": "343f322e-334a-4a96-b2cd-49231ece14f7"
      },
      "execution_count": 30,
      "outputs": [
        {
          "output_type": "stream",
          "name": "stdout",
          "text": [
            "['a', 'b', 'c']\n",
            "[1, 2, 3]\n",
            "[('a', 1), ('b', 2), ('c', 3)]\n"
          ]
        }
      ]
    },
    {
      "cell_type": "code",
      "source": [
        "# Dictionary to Tuple (of keys, values, or items)\n",
        "my_dict = {'a': 1, 'b': 2, 'c': 3}\n",
        "\n",
        "# Convert keys to tuple\n",
        "keys_tuple = tuple(my_dict.keys())\n",
        "print(keys_tuple)\n",
        "\n",
        "# Convert values to tuple\n",
        "values_tuple = tuple(my_dict.values())\n",
        "print(values_tuple)\n",
        "\n",
        "# Convert items (key-value pairs) to tuple\n",
        "items_tuple = tuple(my_dict.items())\n",
        "print(items_tuple)"
      ],
      "metadata": {
        "colab": {
          "base_uri": "https://localhost:8080/"
        },
        "id": "IHb_63K2s17o",
        "outputId": "6acac31c-fb1f-4a28-d206-957260425ac6"
      },
      "execution_count": 31,
      "outputs": [
        {
          "output_type": "stream",
          "name": "stdout",
          "text": [
            "('a', 'b', 'c')\n",
            "(1, 2, 3)\n",
            "(('a', 1), ('b', 2), ('c', 3))\n"
          ]
        }
      ]
    },
    {
      "cell_type": "code",
      "source": [
        "# Dictionary to Set (of keys, values, or items)\n",
        "my_dict = {'a': 1, 'b': 2, 'c': 3}\n",
        "\n",
        "# Convert keys to set\n",
        "keys_set = set(my_dict.keys())\n",
        "print(keys_set)\n",
        "\n",
        "# Convert values to set\n",
        "values_set = set(my_dict.values())\n",
        "print(values_set)\n",
        "\n",
        "# Convert items (key-value pairs) to set (items are converted to tuples first)\n",
        "items_set = set(my_dict.items())\n",
        "print(items_set)\n"
      ],
      "metadata": {
        "colab": {
          "base_uri": "https://localhost:8080/"
        },
        "id": "Hi-60YPrs2Bm",
        "outputId": "2c16d2fd-6255-461f-bc06-e92b73a08371"
      },
      "execution_count": 32,
      "outputs": [
        {
          "output_type": "stream",
          "name": "stdout",
          "text": [
            "{'c', 'a', 'b'}\n",
            "{1, 2, 3}\n",
            "{('a', 1), ('c', 3), ('b', 2)}\n"
          ]
        }
      ]
    },
    {
      "cell_type": "code",
      "source": [
        "from array import array\n",
        "\n",
        "# Dictionary to Array (of values)\n",
        "my_dict = {'a': 1, 'b': 2, 'c': 3}\n",
        "\n",
        "# Convert values to array (specify type code)\n",
        "array_from_dict = array('i', my_dict.values())  # 'i' specifies integer type\n",
        "print(array_from_dict)"
      ],
      "metadata": {
        "colab": {
          "base_uri": "https://localhost:8080/"
        },
        "id": "DsD58vjrtCM6",
        "outputId": "936fd24c-ecd2-4cbf-d8c0-aee37cc5ae31"
      },
      "execution_count": 33,
      "outputs": [
        {
          "output_type": "stream",
          "name": "stdout",
          "text": [
            "array('i', [1, 2, 3])\n"
          ]
        }
      ]
    },
    {
      "cell_type": "markdown",
      "source": [
        "**Converting tuple to list,dictionary,set and array**"
      ],
      "metadata": {
        "id": "cFy14L60tFIP"
      }
    },
    {
      "cell_type": "code",
      "source": [
        "# Tuple to List\n",
        "my_tuple = (1, 2, 3)\n",
        "list_from_tuple = list(my_tuple)\n",
        "print(list_from_tuple)\n"
      ],
      "metadata": {
        "colab": {
          "base_uri": "https://localhost:8080/"
        },
        "id": "YgIj3z6LtMe9",
        "outputId": "1f908669-eebf-48a7-eed5-0a142b98d499"
      },
      "execution_count": 34,
      "outputs": [
        {
          "output_type": "stream",
          "name": "stdout",
          "text": [
            "[1, 2, 3]\n"
          ]
        }
      ]
    },
    {
      "cell_type": "code",
      "source": [
        "# Tuple to Dictionary\n",
        "my_tuple = (('a', 1), ('b', 2), ('c', 3))\n",
        "dict_from_tuple = dict(my_tuple)\n",
        "print(dict_from_tuple)\n"
      ],
      "metadata": {
        "colab": {
          "base_uri": "https://localhost:8080/"
        },
        "id": "IJJhefcgtMlW",
        "outputId": "839da340-44ac-4b6f-aed4-d0ea8db6bba7"
      },
      "execution_count": 35,
      "outputs": [
        {
          "output_type": "stream",
          "name": "stdout",
          "text": [
            "{'a': 1, 'b': 2, 'c': 3}\n"
          ]
        }
      ]
    },
    {
      "cell_type": "code",
      "source": [
        "# Tuple to Set\n",
        "my_tuple = (1, 2, 2, 3, 3, 3)\n",
        "set_from_tuple = set(my_tuple)\n",
        "print(set_from_tuple)\n"
      ],
      "metadata": {
        "colab": {
          "base_uri": "https://localhost:8080/"
        },
        "id": "4OVsP-YStMs0",
        "outputId": "8e5e2932-0897-438b-c631-627498de6f8b"
      },
      "execution_count": 36,
      "outputs": [
        {
          "output_type": "stream",
          "name": "stdout",
          "text": [
            "{1, 2, 3}\n"
          ]
        }
      ]
    },
    {
      "cell_type": "code",
      "source": [
        "from array import array\n",
        "\n",
        "# Tuple to Array\n",
        "my_tuple = (1, 2, 3)\n",
        "array_from_tuple = array('i', my_tuple)  # 'i' specifies integer type\n",
        "print(array_from_tuple)\n"
      ],
      "metadata": {
        "colab": {
          "base_uri": "https://localhost:8080/"
        },
        "id": "98sxKVWEtMxn",
        "outputId": "04b76d51-6909-41b8-d4ed-c33213aeac01"
      },
      "execution_count": 37,
      "outputs": [
        {
          "output_type": "stream",
          "name": "stdout",
          "text": [
            "array('i', [1, 2, 3])\n"
          ]
        }
      ]
    },
    {
      "cell_type": "markdown",
      "source": [
        "**Converting set to list,dictionary,tuple and array**"
      ],
      "metadata": {
        "id": "GKCW0aVCtZKv"
      }
    },
    {
      "cell_type": "code",
      "source": [
        "# Set to List\n",
        "my_set = {1, 2, 3}\n",
        "list_from_set = list(my_set)\n",
        "print(list_from_set)"
      ],
      "metadata": {
        "colab": {
          "base_uri": "https://localhost:8080/"
        },
        "id": "a8Rc9K7kteOQ",
        "outputId": "8ec7849c-c23e-4511-9339-4c37fdd51d21"
      },
      "execution_count": 38,
      "outputs": [
        {
          "output_type": "stream",
          "name": "stdout",
          "text": [
            "[1, 2, 3]\n"
          ]
        }
      ]
    },
    {
      "cell_type": "code",
      "source": [
        "# Set to Dictionary\n",
        "my_set = {('a', 1), ('b', 2), ('c', 3)}\n",
        "dict_from_set = dict(my_set)\n",
        "print(dict_from_set)\n"
      ],
      "metadata": {
        "colab": {
          "base_uri": "https://localhost:8080/"
        },
        "id": "KoBjJMPsteS2",
        "outputId": "e6afa2a7-bf03-4d21-c0dc-68463ebc96db"
      },
      "execution_count": 39,
      "outputs": [
        {
          "output_type": "stream",
          "name": "stdout",
          "text": [
            "{'a': 1, 'c': 3, 'b': 2}\n"
          ]
        }
      ]
    },
    {
      "cell_type": "code",
      "source": [
        "# Set to Tuple\n",
        "my_set = {1, 2, 3}\n",
        "tuple_from_set = tuple(my_set)\n",
        "print(tuple_from_set)\n"
      ],
      "metadata": {
        "colab": {
          "base_uri": "https://localhost:8080/"
        },
        "id": "syp7FfRmteX2",
        "outputId": "59beac6e-7b13-4a8d-d163-5772b284d217"
      },
      "execution_count": 40,
      "outputs": [
        {
          "output_type": "stream",
          "name": "stdout",
          "text": [
            "(1, 2, 3)\n"
          ]
        }
      ]
    },
    {
      "cell_type": "code",
      "source": [
        "from array import array\n",
        "\n",
        "# Set to Array (converts to list first)\n",
        "my_set = {1, 2, 3}\n",
        "array_from_set = array('i', list(my_set))  # 'i' specifies integer type\n",
        "print(array_from_set)\n"
      ],
      "metadata": {
        "colab": {
          "base_uri": "https://localhost:8080/"
        },
        "id": "njipj-UttecB",
        "outputId": "f4cd96f8-bb85-4448-b3db-4eecd9994ea0"
      },
      "execution_count": 41,
      "outputs": [
        {
          "output_type": "stream",
          "name": "stdout",
          "text": [
            "array('i', [1, 2, 3])\n"
          ]
        }
      ]
    },
    {
      "cell_type": "markdown",
      "source": [
        "**Converting array to list,dictionary,tuple and set**"
      ],
      "metadata": {
        "id": "nIiBwWmgtogs"
      }
    },
    {
      "cell_type": "code",
      "source": [
        "from array import array\n",
        "\n",
        "# Array to List\n",
        "my_array = array('i', [1, 2, 3])\n",
        "list_from_array = list(my_array)\n",
        "print(list_from_array)\n"
      ],
      "metadata": {
        "colab": {
          "base_uri": "https://localhost:8080/"
        },
        "id": "DHYwIYJjtr1u",
        "outputId": "b811001d-ce2d-4729-882c-25536c96a6cb"
      },
      "execution_count": 42,
      "outputs": [
        {
          "output_type": "stream",
          "name": "stdout",
          "text": [
            "[1, 2, 3]\n"
          ]
        }
      ]
    },
    {
      "cell_type": "code",
      "source": [
        "from array import array\n",
        "\n",
        "# Example array of integers\n",
        "my_array = array('i', [1, 2, 3, 4])\n",
        "\n",
        "# Convert array to list of tuples (for demonstration)\n",
        "my_list_of_tuples = list(enumerate(my_array))\n",
        "\n",
        "# Convert list of tuples to dictionary\n",
        "dict_from_array = dict(my_list_of_tuples)\n",
        "print(dict_from_array)\n"
      ],
      "metadata": {
        "colab": {
          "base_uri": "https://localhost:8080/"
        },
        "id": "ehlvKwuftr54",
        "outputId": "166bb22a-e8b0-4551-bc93-2cf6eb7ba8d2"
      },
      "execution_count": 48,
      "outputs": [
        {
          "output_type": "stream",
          "name": "stdout",
          "text": [
            "{0: 1, 1: 2, 2: 3, 3: 4}\n"
          ]
        }
      ]
    },
    {
      "cell_type": "code",
      "source": [
        "from array import array\n",
        "\n",
        "# Array to Tuple\n",
        "my_array = array('i', [1, 2, 3])\n",
        "tuple_from_array = tuple(my_array)\n",
        "print(tuple_from_array)\n"
      ],
      "metadata": {
        "colab": {
          "base_uri": "https://localhost:8080/"
        },
        "id": "crapFr9Jtr-h",
        "outputId": "b2d852dc-343e-4319-b0e8-35b444680cc0"
      },
      "execution_count": 44,
      "outputs": [
        {
          "output_type": "stream",
          "name": "stdout",
          "text": [
            "(1, 2, 3)\n"
          ]
        }
      ]
    },
    {
      "cell_type": "code",
      "source": [
        "from array import array\n",
        "\n",
        "# Array to Set\n",
        "my_array = array('i', [1, 2, 2, 3, 3, 3])\n",
        "set_from_array = set(my_array)\n",
        "print(set_from_array)\n"
      ],
      "metadata": {
        "colab": {
          "base_uri": "https://localhost:8080/"
        },
        "id": "mjFXF-prtsCI",
        "outputId": "4235e659-9dce-4023-80c4-13f334241937"
      },
      "execution_count": 45,
      "outputs": [
        {
          "output_type": "stream",
          "name": "stdout",
          "text": [
            "{1, 2, 3}\n"
          ]
        }
      ]
    }
  ]
}