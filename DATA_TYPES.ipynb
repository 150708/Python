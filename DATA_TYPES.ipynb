{
  "nbformat": 4,
  "nbformat_minor": 0,
  "metadata": {
    "colab": {
      "provenance": [],
      "authorship_tag": "ABX9TyPexDI/Yf0knWVLk0b5Azwe",
      "include_colab_link": true
    },
    "kernelspec": {
      "name": "python3",
      "display_name": "Python 3"
    },
    "language_info": {
      "name": "python"
    }
  },
  "cells": [
    {
      "cell_type": "markdown",
      "metadata": {
        "id": "view-in-github",
        "colab_type": "text"
      },
      "source": [
        "<a href=\"https://colab.research.google.com/github/150708/Python/blob/main/DATA_TYPES.ipynb\" target=\"_parent\"><img src=\"https://colab.research.google.com/assets/colab-badge.svg\" alt=\"Open In Colab\"/></a>"
      ]
    },
    {
      "cell_type": "markdown",
      "source": [
        "***Data Types*** :Data types are the classification or categorization of data items. Python supports the following built-in data types.\n",
        "\n",
        "classified into four types:\n",
        "\n",
        "                     1. Scalar Types\n",
        "                     2. Sequence Type\n",
        "                     3. Mapping Type\n",
        "                     4. Set Types\n",
        "\n"
      ],
      "metadata": {
        "id": "EvoK435cVvvG"
      }
    },
    {
      "cell_type": "markdown",
      "source": [
        "***Scalar Types*** :\n",
        "\n",
        "italicized text\n",
        "\n",
        "**int**: Positive or negative whole numbers (without a fractional part) e.g. -10, 10, 456, 4654654.\n",
        "\n",
        "**float**: Any real number with a floating-point representation in which a fractional component is denoted by a decimal symbol or scientific notation e.g. 1.23, 3.4556789e2.\n",
        "\n",
        "**complex**: A number with a real and imaginary component.e.g.1+3j.whereas 1 is a real part and 3 is a imaginary part.\n",
        "\n",
        "**bool**: Data with one of two built-in values True or False. Notice that 'T' and 'F' are capital. true and false are not valid booleans and Python will throw an error for them.\n",
        "\n",
        "**None**: The None represents the null object in Python. A None is returned by functions that don't explicitly return a value.\n",
        "\n"
      ],
      "metadata": {
        "id": "y8Cm5D65Wg-O"
      }
    },
    {
      "cell_type": "markdown",
      "source": [
        "**Sequence Type**\n",
        "\n",
        "A sequence is an ordered collection of similar or different data types. Python has the following built-in sequence data types:\n",
        "\n",
        "**String**: A string value is a collection of one or more characters put in single, double or triple quotes. e.g.[\"Python is a interpreted language\"]\n",
        "\n",
        "**List**: A list object is an ordered collection of one or more data items, not necessarily of the same type, put in square brackets.\n",
        "\n",
        "**Tuple**: A Tuple object is an ordered collection of one or more data items, not necessarily of the same type, put in parentheses."
      ],
      "metadata": {
        "id": "iZUxGTpjZIwR"
      }
    },
    {
      "cell_type": "markdown",
      "source": [
        "**Mapping Type**\n",
        "\n",
        "**Dictionary**: A dictionary Dict() object is an unordered collection of data in a key:value pair form. A collection of such pairs is enclosed in curly brackets. For example: {1:\"Steve\", 2:\"Bill\", 3:\"Ram\", 4: \"Farha\"}"
      ],
      "metadata": {
        "id": "VDQXh58raPMa"
      }
    },
    {
      "cell_type": "markdown",
      "source": [
        "**Set Types**\n",
        "\n",
        "**set**: Set is mutable, unordered collection of distinct hashable objects. The set is a Python implementation of the set in Mathematics. A set object has suitable methods to perform mathematical set operations like union, intersection, difference, etc."
      ],
      "metadata": {
        "id": "uU7jKMXUaY_x"
      }
    },
    {
      "cell_type": "code",
      "source": [
        "# Define integer variables\n",
        "a = 5\n",
        "b = 3\n",
        "\n",
        "# Perform arithmetic operations\n",
        "sum = a + b\n",
        "sub = a - b\n",
        "multiplication = a * b\n",
        "division = a // b\n",
        "\n",
        "# Print results\n",
        "print(\"Addd:\", sum)\n",
        "print(\"Subtraction:\", sub)\n",
        "print(\"Multiplication:\", multiplication)\n",
        "print(\"Division:\", division)\n"
      ],
      "metadata": {
        "colab": {
          "base_uri": "https://localhost:8080/"
        },
        "id": "hX5NOfmdcNat",
        "outputId": "fc27cc56-8d14-494a-fd43-63822846cb56"
      },
      "execution_count": null,
      "outputs": [
        {
          "output_type": "stream",
          "name": "stdout",
          "text": [
            "Addd: 8\n",
            "Subtraction: 2\n",
            "Multiplication: 15\n",
            "Division: 1\n"
          ]
        }
      ]
    },
    {
      "cell_type": "code",
      "source": [
        "# Define float variables\n",
        "a = 5.50\n",
        "b = 3.77\n",
        "\n",
        "# Perform arithmetic operations\n",
        "sum = a + b\n",
        "sub = a - b\n",
        "multiplication = a * b\n",
        "division = a // b\n",
        "\n",
        "# Print results\n",
        "print(\"Addd:\", sum)\n",
        "print(\"Subtraction:\", sub)\n",
        "print(\"Multiplication:\", multiplication)\n",
        "print(\"Division:\", division)\n"
      ],
      "metadata": {
        "colab": {
          "base_uri": "https://localhost:8080/"
        },
        "id": "v2oSfj_kclL3",
        "outputId": "00e1bc32-7464-4cc6-8233-c943ab49fb0e"
      },
      "execution_count": null,
      "outputs": [
        {
          "output_type": "stream",
          "name": "stdout",
          "text": [
            "Addd: 9.27\n",
            "Subtraction: 1.73\n",
            "Multiplication: 20.735\n",
            "Division: 1.0\n"
          ]
        }
      ]
    },
    {
      "cell_type": "code",
      "source": [
        "# Define string variables\n",
        "str1 = \"data\"\n",
        "str2 = \"science\"\n",
        "\n",
        "# Concatenate strings\n",
        "combine_str = str1 + \" \" + str2\n",
        "\n",
        "# Calculate length of the string\n",
        "length_str = len(combine_str)\n",
        "\n",
        "# Print results\n",
        "print(\"Combine String:\", combine_str)\n",
        "print(\"Length of String:\", length_str)\n"
      ],
      "metadata": {
        "colab": {
          "base_uri": "https://localhost:8080/"
        },
        "id": "qgP3GhA0c1GI",
        "outputId": "dee4ab4e-ad19-45ae-df36-eb0666c75dbf"
      },
      "execution_count": null,
      "outputs": [
        {
          "output_type": "stream",
          "name": "stdout",
          "text": [
            "Combine String: data science\n",
            "Length of String: 12\n"
          ]
        }
      ]
    },
    {
      "cell_type": "code",
      "source": [
        "# Define variables for comparison #boolean\n",
        "a = 10\n",
        "b = 20\n",
        "\n",
        "# Perform comparisons\n",
        "greater_than = a > b\n",
        "less_than = a < b\n",
        "equal_to = a == b\n",
        "not_equal_to = a != b\n",
        "\n",
        "# Print results\n",
        "print(\"Is a greater than b?\", greater_than)\n",
        "print(\"Is a less than b?\", less_than)\n",
        "print(\"Is a equal to b?\", equal_to)\n",
        "print(\"Is a not equal to b?\", not_equal_to)\n"
      ],
      "metadata": {
        "colab": {
          "base_uri": "https://localhost:8080/"
        },
        "id": "1QdDEgJBdaTG",
        "outputId": "ca4923dc-5d50-4046-b8f4-d56ca863bf36"
      },
      "execution_count": null,
      "outputs": [
        {
          "output_type": "stream",
          "name": "stdout",
          "text": [
            "Is a greater than b? False\n",
            "Is a less than b? True\n",
            "Is a equal to b? False\n",
            "Is a not equal to b? True\n"
          ]
        }
      ]
    },
    {
      "cell_type": "code",
      "source": [
        "# Define complex variables\n",
        "a1 = 5+3j\n",
        "b1 = 3+7j\n",
        "\n",
        "# Perform arithmetic operations\n",
        "sum = a1 + b1\n",
        "sub = a1 - b1\n",
        "multiplication = a1 * b1\n",
        "division = a1 / b1\n",
        "\n",
        "# Print results\n",
        "print(\"Addd:\", sum)\n",
        "print(\"Subtraction:\", sub)\n",
        "print(\"Multiplication:\", multiplication)\n",
        "print(\"Division:\", division)\n"
      ],
      "metadata": {
        "colab": {
          "base_uri": "https://localhost:8080/"
        },
        "id": "2JF5CHbweIBw",
        "outputId": "e7090a8e-d4ac-4dc4-e594-88c8c1dc87ff"
      },
      "execution_count": null,
      "outputs": [
        {
          "output_type": "stream",
          "name": "stdout",
          "text": [
            "Addd: (8+10j)\n",
            "Subtraction: (2-4j)\n",
            "Multiplication: (-6+44j)\n",
            "Division: (0.6206896551724138-0.4482758620689656j)\n"
          ]
        }
      ]
    },
    {
      "cell_type": "code",
      "source": [
        "# Define a complex number\n",
        "c = 3 + 4j\n",
        "\n",
        "# Get the real part\n",
        "real_part = c.real\n",
        "\n",
        "# Get the imaginary part\n",
        "imaginary_part = c.imag\n",
        "\n",
        "\n",
        "# Print results\n",
        "print(\"Real Part:\", real_part)\n",
        "print(\"Imaginary Part:\", imaginary_part)\n",
        "\n"
      ],
      "metadata": {
        "colab": {
          "base_uri": "https://localhost:8080/"
        },
        "id": "bswwzL-5e5_j",
        "outputId": "319e5713-9f1f-407c-875b-d2ea8143d49f"
      },
      "execution_count": null,
      "outputs": [
        {
          "output_type": "stream",
          "name": "stdout",
          "text": [
            "Real Part: 3.0\n",
            "Imaginary Part: 4.0\n"
          ]
        }
      ]
    }
  ]
}